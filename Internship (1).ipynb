{
 "cells": [
  {
   "cell_type": "code",
   "execution_count": null,
   "id": "d34d6fee",
   "metadata": {},
   "outputs": [],
   "source": [
    "11.\tWrite a python program to find the factorial of a number."
   ]
  },
  {
   "cell_type": "code",
   "execution_count": null,
   "id": "9a98f858",
   "metadata": {},
   "outputs": [],
   "source": [
    "print(\"Enter the Number: \")\n",
    "num = int(input())\n",
    "fact = 1\n",
    "\n",
    "i = 1\n",
    "\n",
    "while i<=num:\n",
    "\n",
    "fact = fact*i\n",
    "\n",
    "i = i+1\n",
    "\n",
    "print(\"\\nFactorial =\", fact"
   ]
  },
  {
   "cell_type": "code",
   "execution_count": null,
   "id": "b66afbb6",
   "metadata": {},
   "outputs": [],
   "source": [
    "12.\tWrite a python program to find whether a number is prime or composite."
   ]
  },
  {
   "cell_type": "code",
   "execution_count": null,
   "id": "59d199cb",
   "metadata": {},
   "outputs": [],
   "source": [
    "num = int(input(\"Enter any number : \"))\n",
    "if num > 1:\n",
    "    for i in range(2, num):\n",
    "        if (num % i) == 0:\n",
    "            print(num, \"is NOT a prime number\")\n",
    "            break\n",
    "    else:\n",
    "        print(num, \"is a PRIME number\")\n",
    "elif num == 0 or 1:\n",
    "    print(num, \"is a neither prime NOR composite number\")\n",
    "else:\n",
    "    print(num, \"is NOT a prime number it is a COMPOSITE number\")"
   ]
  },
  {
   "cell_type": "code",
   "execution_count": null,
   "id": "684aa801",
   "metadata": {},
   "outputs": [],
   "source": [
    "13.\tWrite a python program to check whether a given string is palindrome or not."
   ]
  },
  {
   "cell_type": "code",
   "execution_count": null,
   "id": "0ccb44a8",
   "metadata": {},
   "outputs": [],
   "source": [
    "str_1 = input (“Enter the string to check if it is a palindrome: “)\n",
    "\n",
    "str_1 = str_1.casefold ()\n",
    "\n",
    "rev_str = reversed (str_1)\n",
    "\n",
    "if (list str_1) == list (rev_str):\n",
    "\n",
    "              print (“The string is a palindrome.”)\n",
    "\n",
    "else:\n",
    "\n",
    "              print (“The string is not a palindrome.”)"
   ]
  },
  {
   "cell_type": "code",
   "execution_count": null,
   "id": "efa1e7cd",
   "metadata": {},
   "outputs": [],
   "source": [
    "14.\tWrite a Python program to get the third side of right-angled triangle from two given sides."
   ]
  },
  {
   "cell_type": "code",
   "execution_count": null,
   "id": "3733a03b",
   "metadata": {},
   "outputs": [],
   "source": [
    "def pythagoras(opposite_side,adjacent_side,hypotenuse):\n",
    "        if opposite_side == str(\"x\"):\n",
    "            return (\"Opposite = \" + str(((hypotenuse**2) - (adjacent_side**2))**0.5))\n",
    "        elif adjacent_side == str(\"x\"):\n",
    "            return (\"Adjacent = \" + str(((hypotenuse**2) - (opposite_side**2))**0.5))\n",
    "        elif hypotenuse == str(\"x\"):\n",
    "            return (\"Hypotenuse = \" + str(((opposite_side**2) + (adjacent_side**2))**0.5))\n",
    "        else:"
   ]
  },
  {
   "cell_type": "code",
   "execution_count": null,
   "id": "9373deaa",
   "metadata": {},
   "outputs": [],
   "source": [
    "15.\tWrite a python program to print the frequency of each of the characters present in a given string."
   ]
  },
  {
   "cell_type": "code",
   "execution_count": null,
   "id": "d47900f1",
   "metadata": {},
   "outputs": [],
   "source": [
    "#Given a string and you want to count how many times each character appears\n",
    "\n",
    "str1 = input (\"Enter the string: \")\n",
    "d = dict()\n",
    "for c in str1:\n",
    "    if c in d:\n",
    "        d[c] = d[c] + 1\n",
    "    else:\n",
    "        d[c] = 1\n",
    "print(d)"
   ]
  }
 ],
 "metadata": {
  "kernelspec": {
   "display_name": "Python 3 (ipykernel)",
   "language": "python",
   "name": "python3"
  },
  "language_info": {
   "codemirror_mode": {
    "name": "ipython",
    "version": 3
   },
   "file_extension": ".py",
   "mimetype": "text/x-python",
   "name": "python",
   "nbconvert_exporter": "python",
   "pygments_lexer": "ipython3",
   "version": "3.9.7"
  }
 },
 "nbformat": 4,
 "nbformat_minor": 5
}
